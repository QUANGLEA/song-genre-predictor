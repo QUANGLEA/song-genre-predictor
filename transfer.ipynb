{
 "cells": [
  {
   "cell_type": "code",
   "execution_count": 6,
   "metadata": {},
   "outputs": [],
   "source": [
    "import torch\n",
    "import torchvision\n",
    "import numpy as np\n",
    "import matplotlib.pyplot as plt\n",
    "import os\n",
    "import torch\n",
    "import torchvision\n",
    "from torch.nn import functional \n",
    "from pydub import AudioSegment\n",
    "import librosa"
   ]
  },
  {
   "cell_type": "code",
   "execution_count": 3,
   "metadata": {},
   "outputs": [],
   "source": [
    "# Import EfficientNet model -- Using b0 for speed \n",
    "efnet_weights = torchvision.models.EfficientNet_B0_Weights.DEFAULT\n",
    "efnet_model = torchvision.models.efficientnet_b0(weights = efnet_weights)"
   ]
  },
  {
   "cell_type": "code",
   "execution_count": 15,
   "metadata": {},
   "outputs": [],
   "source": [
    "MAPPING = {\n",
    "    \"acoustic\" : 0,\n",
    "    \"blues\" : 1,\n",
    "    \"classical\" : 2,\n",
    "    \"country\" : 3,\n",
    "    \"dance\" : 4,\n",
    "    \"edm\" : 5,\n",
    "    \"hip-hop\" : 6,\n",
    "    \"indie\" : 7,\n",
    "    \"jazz\" : 8,\n",
    "    \"pop\" : 9,\n",
    "    \"rock\" : 10,\n",
    "    \"world-music\" : 11\n",
    "}\n",
    "\n",
    "IMG_FOLDER = \"spectrogram\"\n",
    "\n",
    "genres = os.listdir(IMG_FOLDER)\n",
    "\n",
    "#! Using zeros instead of empty because empty needs dtypes\n",
    "images = np.zeros(shape = (1195, 4, 65, 86))\n",
    "labels = np.zeros(shape = 1195)\n",
    "\n",
    "idx = 0\n",
    "added = []\n",
    "for root, directories, contents in os.walk(IMG_FOLDER):\n",
    "    if root == IMG_FOLDER: continue\n",
    "    genre = root.split('/')[1]\n",
    "    if genre in MAPPING:\n",
    "        for img_path in contents:\n",
    "            image = plt.imread(root + \"/\" + img_path)\n",
    "            ## Convert to tensor and check the shape\n",
    "            spec = torch.from_numpy(image)\n",
    "\n",
    "            ## Move third dimension (color channels) to the first dimension\n",
    "            spec2 = torch.movedim(spec, source=2, destination=0)\n",
    "\n",
    "            ## Add an empty first dimension, putting our tensor into the standard format\n",
    "            spec_final = torch.unsqueeze(spec2, dim=0)\n",
    "            \n",
    "            ##! Why /6 ?\n",
    "            spec_resized = functional.interpolate(spec_final, size = (65,86)) ### 389 / 6 = 65 and 515 / 6 = 86\n",
    "            \n",
    "            images[idx] = spec_resized\n",
    "            labels[idx] = MAPPING[genre]\n",
    "            idx += 1\n"
   ]
  },
  {
   "cell_type": "code",
   "execution_count": 16,
   "metadata": {},
   "outputs": [],
   "source": [
    "## Train-test split\n",
    "from sklearn.model_selection import train_test_split\n",
    "train_X, test_X, train_y, test_y = train_test_split(images, labels, test_size=0.25, random_state=5)"
   ]
  },
  {
   "cell_type": "code",
   "execution_count": null,
   "metadata": {},
   "outputs": [],
   "source": [
    "## Neural network with transfered Efnet"
   ]
  },
  {
   "cell_type": "code",
   "execution_count": null,
   "metadata": {},
   "outputs": [],
   "source": []
  }
 ],
 "metadata": {
  "kernelspec": {
   "display_name": ".venv",
   "language": "python",
   "name": "python3"
  },
  "language_info": {
   "codemirror_mode": {
    "name": "ipython",
    "version": 3
   },
   "file_extension": ".py",
   "mimetype": "text/x-python",
   "name": "python",
   "nbconvert_exporter": "python",
   "pygments_lexer": "ipython3",
   "version": "3.11.3"
  },
  "orig_nbformat": 4
 },
 "nbformat": 4,
 "nbformat_minor": 2
}
